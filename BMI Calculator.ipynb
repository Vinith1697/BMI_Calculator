{
 "cells": [
  {
   "cell_type": "markdown",
   "id": "455281fe",
   "metadata": {},
   "source": [
    "# BMI Calculator"
   ]
  },
  {
   "cell_type": "code",
   "execution_count": 9,
   "id": "79ae1b6f",
   "metadata": {},
   "outputs": [
    {
     "name": "stdout",
     "output_type": "stream",
     "text": [
      "Enter your weight in pounds: 170\n",
      "Enter your weight in inches: 60\n",
      "33.19722222222222\n",
      "You are obese\n"
     ]
    }
   ],
   "source": [
    "weight = int(input(\"Enter your weight in pounds: \"))\n",
    "\n",
    "height = int(input(\"Enter your weight in inches: \"))\n",
    "\n",
    "BMI = (weight * 703) / (height * height)\n",
    "\n",
    "print(BMI)\n",
    "\n",
    "if BMI > 0:\n",
    "    if(BMI < 18.5):\n",
    "        print(\"You are underweight\")\n",
    "    elif(BMI < 25):\n",
    "        print(\"You have normal weight\")\n",
    "    elif(BMI < 30):\n",
    "        print(\"You are overweight\")\n",
    "    elif(BMI < 35):\n",
    "        print(\"You are obese\")\n",
    "    elif(BMI < 40):\n",
    "        print(\"You are severly obese\")\n",
    "    elif(BMI >= 40):\n",
    "        print(\"You are morbidly obese\")\n",
    "    else:\n",
    "        print(\"You've entered invalid inputs\")"
   ]
  },
  {
   "cell_type": "code",
   "execution_count": 6,
   "id": "3ffa6fd1",
   "metadata": {},
   "outputs": [
    {
     "name": "stdout",
     "output_type": "stream",
     "text": [
      "You are fit\n"
     ]
    }
   ],
   "source": []
  },
  {
   "cell_type": "code",
   "execution_count": null,
   "id": "7d5e4ea0",
   "metadata": {},
   "outputs": [],
   "source": []
  }
 ],
 "metadata": {
  "kernelspec": {
   "display_name": "Python 3 (ipykernel)",
   "language": "python",
   "name": "python3"
  },
  "language_info": {
   "codemirror_mode": {
    "name": "ipython",
    "version": 3
   },
   "file_extension": ".py",
   "mimetype": "text/x-python",
   "name": "python",
   "nbconvert_exporter": "python",
   "pygments_lexer": "ipython3",
   "version": "3.9.13"
  }
 },
 "nbformat": 4,
 "nbformat_minor": 5
}
